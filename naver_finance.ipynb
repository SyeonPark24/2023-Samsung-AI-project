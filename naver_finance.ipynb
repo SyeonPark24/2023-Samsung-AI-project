{
  "nbformat": 4,
  "nbformat_minor": 0,
  "metadata": {
    "colab": {
      "provenance": []
    },
    "kernelspec": {
      "name": "python3",
      "display_name": "Python 3"
    },
    "language_info": {
      "name": "python"
    }
  },
  "cells": [
    {
      "cell_type": "code",
      "execution_count": null,
      "metadata": {
        "id": "ng5F4SAJSJ_y"
      },
      "outputs": [],
      "source": [
        "import requests\n",
        "import pandas as pd\n",
        "from selenium import webdriver\n",
        "from selenium.webdriver.chrome.service import Service\n",
        "from webdriver_manager.chrome import ChromeDriverManager\n",
        "from selenium.webdriver.common.by import By\n",
        "\n",
        "chrome_options = webdriver.ChromeOptions()\n",
        "chrome_options.add_experimental_option(\"excludeSwitches\", [\"enable-logging\"])\n",
        "chrome_options.add_argument('window-size=1080x500')\n",
        "driver = webdriver.Chrome(service=Service(ChromeDriverManager().install()), options=chrome_options)\n",
        "\n",
        "# 세션 가져오기\n",
        "session = requests.Session()\n",
        "\n",
        "try:\n",
        "    # 기업 리스트\n",
        "    list = [\n",
        "        \"036570\",\n",
        "        \"251270\",\n",
        "        \"259960\",\n",
        "        \"005930\",\n",
        "        \"000660\",\n",
        "        \"000990\",\n",
        "        \"005380\",\n",
        "        \"012330\",\n",
        "        \"204320\",\n",
        "        \"000270\",\n",
        "        \"011070\",\n",
        "        \"030200\",\n",
        "        \"373220\",\n",
        "        \"006400\",\n",
        "        \"051910\",\n",
        "        \"096770\"\n",
        "    ]\n",
        "\n",
        "    data = []\n",
        "\n",
        "    for i in range(len(list)):\n",
        "        # 크롤링할 웹사이트 URL\n",
        "        url = 'https://finance.naver.com/item/sise.naver?code=' + list[i]\n",
        "\n",
        "        # 웹사이트 접속\n",
        "        driver.get(url)\n",
        "\n",
        "        # 액면가\n",
        "        element_price = driver.find_element(By.XPATH, \"/html/body/div[3]/div[2]/div[2]/div[1]/div[2]/div[1]/table/tbody/tr[6]/td[1]\").text\n",
        "        element_price = element_price\n",
        "        print(element_price)\n",
        "\n",
        "        # 자본금 선택\n",
        "        element_price2 = driver.find_element(By.XPATH, \"/html/body/div[3]/div[2]/div[2]/div[1]/div[2]/div[1]/table/tbody/tr[13]/td[2]/span/span\").text\n",
        "        element_price2 = element_price2\n",
        "        print(element_price2)\n",
        "\n",
        "        data.append([list[i], element_price, element_price2])\n",
        "\n",
        "    # 데이터프레임 생성\n",
        "    df = pd.DataFrame(data, columns=['CODE', '액면가', '자본금'])\n",
        "    print(df)\n",
        "\n",
        "    # 데이터프레임을 엑셀로 내보내기\n",
        "    df.to_excel('output.xlsx', index=False)\n",
        "\n",
        "    # 창 안꺼지게 하기\n",
        "    while(True):\n",
        "        pass\n",
        "\n",
        "finally:\n",
        "    driver.quit()"
      ]
    }
  ]
}